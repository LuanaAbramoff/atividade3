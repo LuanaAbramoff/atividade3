{
 "cells": [
  {
   "cell_type": "markdown",
   "metadata": {},
   "source": [
    "## Atividade 9 - Análise"
   ]
  },
  {
   "cell_type": "markdown",
   "metadata": {},
   "source": [
    "1. Comparando as heurísticas do mais leve e do mais caro, é possível perceber que a complexidade é a mesma já o vetor de itens nos dois casos é ordenado da mesma forma, apenas levando em conta um critério diferente, o que não altera a complexidade. A forma que se enche a mochila é a mesma nos dois caso, que no pior é um loop pelo vetor de itens inteiro. Os códigos da implementação das duas heurísticas acabam sendo bem parecidos, se diferenciando apenas pelo critério de ordenação do vetor *itens*."
   ]
  },
  {
   "cell_type": "markdown",
   "metadata": {},
   "source": [
    "2. Uma entrada ideal nesse caso é uma que os objetos são pesados no geral e ela já está ordenada pelo mais caro.\n",
    "\n",
    "    10 300\n",
    "\n",
    "    49 80\n",
    "\n",
    "    45 70\n",
    "\n",
    "    46 68\n",
    "\n",
    "    42 63\n",
    "\n",
    "    38 60\n",
    "\n",
    "    37 48\n",
    "\n",
    "    36 47\n",
    "\n",
    "    31 41\n",
    "\n",
    "    30 20\n",
    "\n",
    "    27 10"
   ]
  },
  {
   "cell_type": "markdown",
   "metadata": {},
   "source": [
    "3. \n",
    "\n",
    "|  | Tempo | Valor Total | Peso total |\n",
    "| --- | --- | --- | --- |\n",
    "| Mais caro | 0.0002774 | 436   | 293 |\n",
    "| Mais leve | 0.00042448 | 359 | 286 |"
   ]
  },
  {
   "cell_type": "markdown",
   "metadata": {},
   "source": [
    "4. Uma entrada ideal nesse caso é uma em que os objetos mais leves tem uma boa relação valor/peso em relação aos objetos mais pesados, além disso que a entrada já esteja ordenada de forma crescente pelo peso.\n",
    "    10 50\n",
    "\n",
    "    2 15\n",
    "    \n",
    "    3 25\n",
    "    \n",
    "    5 30\n",
    "    \n",
    "    7 35\n",
    "    \n",
    "    8 38\n",
    "    \n",
    "    10 40\n",
    "    \n",
    "    15 45\n",
    "    \n",
    "    20 50\n",
    "    \n",
    "    25 60\n",
    "    \n",
    "    30 65"
   ]
  },
  {
   "cell_type": "markdown",
   "metadata": {},
   "source": [
    "5. \n",
    "\n",
    "|  | Tempo | Valor Total | Peso total |\n",
    "| --- | --- | --- | --- |\n",
    "| Mais caro | 0.0003084 | 115  | 50 |\n",
    "| Mais leve | 0.00042448 | 228 | 50 |"
   ]
  },
  {
   "cell_type": "markdown",
   "metadata": {},
   "source": [
    "6. A heurística do mais valioso é melhor em relação à heurísitca do mais leve quando os itens mais leves têm um valor significativamente menor do que os itens mais pesados, e quando a entrada está ordenada ou praticamente ordenada de forma decrescente em relação ao valor. Já a heurística do mais leve se sobressai quando a relação valor/peso dos itens mais leves é muito melhor do que essa relação dos itens mais pesados, e o tempo é melhor quando a entrada está ordenada ou praticamente ordenada de forma crescente em relação ao peso. A complexidade de ambas as abordagens é O (n log n), já que o algoritmo de ordenação tem essa complexidade e o loop feito pelo vetor de itens faria ser O (N log N + N), o que pode ser simplificado à O (n log n)."
   ]
  }
 ],
 "metadata": {
  "language_info": {
   "name": "python"
  }
 },
 "nbformat": 4,
 "nbformat_minor": 2
}
